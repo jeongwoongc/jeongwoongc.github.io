{
 "cells": [
  {
   "attachments": {},
   "cell_type": "markdown",
   "id": "148d5ed0",
   "metadata": {},
   "source": [
    "## Recommendation of movies using user ratings\n",
    "\n",
    "- This project aims to explore recommendation systems using Tensorflow's [`TFRS`](https://www.tensorflow.org/recommenders) library\n",
    "- This project will also be expanded to provide recommendations for a personal movie club later on with better quality data"
   ]
  },
  {
   "cell_type": "code",
   "execution_count": 1,
   "id": "63688010",
   "metadata": {},
   "outputs": [
    {
     "name": "stdout",
     "output_type": "stream",
     "text": [
      "{'bucketized_user_age': 45.0,\n",
      " 'movie_genres': array([7], dtype=int64),\n",
      " 'movie_id': b'357',\n",
      " 'movie_title': b\"One Flew Over the Cuckoo's Nest (1975)\",\n",
      " 'raw_user_age': 46.0,\n",
      " 'timestamp': 879024327,\n",
      " 'user_gender': True,\n",
      " 'user_id': b'138',\n",
      " 'user_occupation_label': 4,\n",
      " 'user_occupation_text': b'doctor',\n",
      " 'user_rating': 4.0,\n",
      " 'user_zip_code': b'53211'}\n"
     ]
    }
   ],
   "source": [
    "import os\n",
    "import pprint\n",
    "import tempfile\n",
    "\n",
    "from typing import Dict, Text\n",
    "\n",
    "import numpy as np\n",
    "import tensorflow as tf\n",
    "import tensorflow_datasets as tfds\n",
    "import tensorflow_recommenders as tfrs\n",
    "\n",
    "# Ratings data.\n",
    "ratings = tfds.load(\"movielens/100k-ratings\", split=\"train\")\n",
    "# Features of all the available movies.\n",
    "movies = tfds.load(\"movielens/100k-movies\", split=\"train\")\n",
    "# check data \n",
    "for x in ratings.take(1).as_numpy_iterator():\n",
    "  pprint.pprint(x)"
   ]
  },
  {
   "attachments": {},
   "cell_type": "markdown",
   "id": "485104b7",
   "metadata": {},
   "source": [
    "### Split ratings/movies into movie titles and user id"
   ]
  },
  {
   "cell_type": "code",
   "execution_count": 2,
   "id": "3e1b6ced",
   "metadata": {
    "lines_to_next_cell": 0,
    "title": "split ratings/movies into movie titles and user id"
   },
   "outputs": [],
   "source": [
    "\n",
    "ratings = ratings.map(lambda x: {\n",
    "        \"movie_title\": x[\"movie_title\"],\n",
    "        \"user_id\": x[\"user_id\"],\n",
    "})\n",
    "movies = movies.map(lambda x: x[\"movie_title\"])"
   ]
  },
  {
   "attachments": {},
   "cell_type": "markdown",
   "id": "4dd4eada",
   "metadata": {},
   "source": [
    "### Shuffle data "
   ]
  },
  {
   "cell_type": "code",
   "execution_count": 3,
   "id": "1a6c1951",
   "metadata": {
    "title": "shuffle data"
   },
   "outputs": [],
   "source": [
    "\n",
    "tf.random.set_seed(42)\n",
    "shuffled = ratings.shuffle(100_000, seed=42, reshuffle_each_iteration=False)\n",
    "\n",
    "train = shuffled.take(80_000)\n",
    "test = shuffled.skip(80_000).take(20_000)"
   ]
  },
  {
   "attachments": {},
   "cell_type": "markdown",
   "id": "04f0cb92",
   "metadata": {},
   "source": [
    "### Unique user ids and movie titles"
   ]
  },
  {
   "cell_type": "code",
   "execution_count": 4,
   "id": "ce8f687a",
   "metadata": {
    "lines_to_next_cell": 0,
    "title": "unique user ids and movie titles"
   },
   "outputs": [
    {
     "data": {
      "text/plain": [
       "array([b\"'Til There Was You (1997)\", b'1-900 (1994)',\n",
       "       b'101 Dalmatians (1996)', b'12 Angry Men (1957)', b'187 (1997)',\n",
       "       b'2 Days in the Valley (1996)',\n",
       "       b'20,000 Leagues Under the Sea (1954)',\n",
       "       b'2001: A Space Odyssey (1968)',\n",
       "       b'3 Ninjas: High Noon At Mega Mountain (1998)',\n",
       "       b'39 Steps, The (1935)'], dtype=object)"
      ]
     },
     "execution_count": 4,
     "metadata": {},
     "output_type": "execute_result"
    }
   ],
   "source": [
    "\n",
    "movie_titles = movies.batch(1_000)\n",
    "user_ids = ratings.batch(1_000_000).map(lambda x: x[\"user_id\"])\n",
    "\n",
    "unique_movie_titles = np.unique(np.concatenate(list(movie_titles)))\n",
    "unique_user_ids = np.unique(np.concatenate(list(user_ids)))\n",
    "\n",
    "unique_movie_titles[:10]"
   ]
  },
  {
   "attachments": {},
   "cell_type": "markdown",
   "id": "324fbf4d",
   "metadata": {},
   "source": [
    "### Query tower "
   ]
  },
  {
   "cell_type": "code",
   "execution_count": 5,
   "id": "4c147cc9",
   "metadata": {
    "title": "Query tower"
   },
   "outputs": [],
   "source": [
    "\n",
    "embedding_dimension = 32\n",
    "user_model = tf.keras.Sequential([\n",
    "  tf.keras.layers.StringLookup(\n",
    "    vocabulary=unique_user_ids, mask_token=None),\n",
    "  # additional embedding to account for unkown tokens\n",
    "  tf.keras.layers.Embedding(len(unique_user_ids) + 1, embedding_dimension)\n",
    "])"
   ]
  },
  {
   "attachments": {},
   "cell_type": "markdown",
   "id": "cae76fe0",
   "metadata": {},
   "source": [
    "### Candidate tower"
   ]
  },
  {
   "cell_type": "code",
   "execution_count": 6,
   "id": "cec47bdd",
   "metadata": {
    "lines_to_next_cell": 0,
    "title": "Candidate tower"
   },
   "outputs": [],
   "source": [
    "\n",
    "movie_model = tf.keras.Sequential([\n",
    "  tf.keras.layers.StringLookup(\n",
    "      vocabulary=unique_movie_titles, mask_token=None),\n",
    "  tf.keras.layers.Embedding(len(unique_movie_titles) + 1, embedding_dimension)\n",
    "])"
   ]
  },
  {
   "attachments": {},
   "cell_type": "markdown",
   "id": "d09b75c5",
   "metadata": {},
   "source": [
    "### Metrics"
   ]
  },
  {
   "cell_type": "code",
   "execution_count": 7,
   "id": "d87ac851",
   "metadata": {
    "title": "Metrics"
   },
   "outputs": [],
   "source": [
    "\n",
    "metrics = tfrs.metrics.FactorizedTopK(\n",
    "  candidates=movies.batch(128).map(movie_model)\n",
    ")"
   ]
  },
  {
   "attachments": {},
   "cell_type": "markdown",
   "id": "9e96d7bc",
   "metadata": {},
   "source": [
    "### Loss "
   ]
  },
  {
   "cell_type": "code",
   "execution_count": 8,
   "id": "4e4afa2e",
   "metadata": {
    "lines_to_next_cell": 1,
    "title": "loss"
   },
   "outputs": [],
   "source": [
    "\n",
    "task = tfrs.tasks.Retrieval(\n",
    "  metrics=metrics\n",
    ")"
   ]
  },
  {
   "attachments": {},
   "cell_type": "markdown",
   "id": "6771a4ef",
   "metadata": {},
   "source": [
    "### Full model"
   ]
  },
  {
   "cell_type": "code",
   "execution_count": 9,
   "id": "8730aaf5",
   "metadata": {
    "lines_to_next_cell": 1,
    "title": "Full model"
   },
   "outputs": [],
   "source": [
    "\n",
    "class MovielensModel(tfrs.Model):\n",
    "  \n",
    "  def __init__(self, user_model, movie_model):\n",
    "    super().__init__()\n",
    "    self.movie_model: tf.keras.Model = movie_model\n",
    "    self.user_model: tf.keras.Model = user_model\n",
    "    self.task: tf.keras.layers.Layer = task\n",
    "  \n",
    "  def compute_loss(self, features: Dict[Text, tf.Tensor], training=False) -> tf.Tensor:\n",
    "    # User features to user model\n",
    "    user_embeddings = self.user_model(features[\"user_id\"])\n",
    "    # movie features to movie model with embeddings\n",
    "    positive_movie_embeddings = self.movie_model(features[\"movie_title\"])\n",
    "\n",
    "    # Task method computes loss and metrics\n",
    "    return self.task(user_embeddings, positive_movie_embeddings)"
   ]
  },
  {
   "attachments": {},
   "cell_type": "markdown",
   "id": "2015af3b",
   "metadata": {},
   "source": [
    "### Fitting"
   ]
  },
  {
   "cell_type": "code",
   "execution_count": 10,
   "id": "34c82a5e",
   "metadata": {
    "lines_to_next_cell": 0,
    "title": "Fitting"
   },
   "outputs": [],
   "source": [
    "\n",
    "model = MovielensModel(user_model, movie_model)\n",
    "model.compile(optimizer=tf.keras.optimizers.Adagrad(learning_rate=0.1))"
   ]
  },
  {
   "attachments": {},
   "cell_type": "markdown",
   "id": "617e9319",
   "metadata": {},
   "source": [
    "### Shuffle, batch, cache"
   ]
  },
  {
   "cell_type": "code",
   "execution_count": 11,
   "id": "89b43211",
   "metadata": {
    "title": "shuffle, batch, cache"
   },
   "outputs": [],
   "source": [
    "\n",
    "cached_train = train.shuffle(100_000).batch(8192).cache()\n",
    "cached_test = test.batch(4096).cache()"
   ]
  },
  {
   "attachments": {},
   "cell_type": "markdown",
   "id": "e25700b3",
   "metadata": {},
   "source": [
    "### Train model"
   ]
  },
  {
   "cell_type": "code",
   "execution_count": 12,
   "id": "f2a2a95a",
   "metadata": {
    "title": "train model"
   },
   "outputs": [
    {
     "name": "stdout",
     "output_type": "stream",
     "text": [
      "Epoch 1/3\n",
      "10/10 [==============================] - 8s 342ms/step - factorized_top_k/top_1_categorical_accuracy: 2.5000e-05 - factorized_top_k/top_5_categorical_accuracy: 0.0013 - factorized_top_k/top_10_categorical_accuracy: 0.0039 - factorized_top_k/top_50_categorical_accuracy: 0.0444 - factorized_top_k/top_100_categorical_accuracy: 0.1071 - loss: 69885.0661 - regularization_loss: 0.0000e+00 - total_loss: 69885.0661\n",
      "Epoch 2/3\n",
      "10/10 [==============================] - 3s 306ms/step - factorized_top_k/top_1_categorical_accuracy: 9.3750e-04 - factorized_top_k/top_5_categorical_accuracy: 0.0108 - factorized_top_k/top_10_categorical_accuracy: 0.0250 - factorized_top_k/top_50_categorical_accuracy: 0.1403 - factorized_top_k/top_100_categorical_accuracy: 0.2633 - loss: 67523.3061 - regularization_loss: 0.0000e+00 - total_loss: 67523.3061\n",
      "Epoch 3/3\n",
      "10/10 [==============================] - 3s 310ms/step - factorized_top_k/top_1_categorical_accuracy: 0.0014 - factorized_top_k/top_5_categorical_accuracy: 0.0175 - factorized_top_k/top_10_categorical_accuracy: 0.0387 - factorized_top_k/top_50_categorical_accuracy: 0.1769 - factorized_top_k/top_100_categorical_accuracy: 0.3050 - loss: 66302.9077 - regularization_loss: 0.0000e+00 - total_loss: 66302.9077\n"
     ]
    },
    {
     "data": {
      "text/plain": [
       "<keras.callbacks.History at 0x2424fc1ba00>"
      ]
     },
     "execution_count": 12,
     "metadata": {},
     "output_type": "execute_result"
    }
   ],
   "source": [
    "\n",
    "model.fit(cached_train, epochs=3)"
   ]
  },
  {
   "attachments": {},
   "cell_type": "markdown",
   "id": "b2d90844",
   "metadata": {},
   "source": [
    "### Evaluate model"
   ]
  },
  {
   "cell_type": "code",
   "execution_count": 13,
   "id": "74ba5aaa",
   "metadata": {
    "title": "eval"
   },
   "outputs": [
    {
     "name": "stdout",
     "output_type": "stream",
     "text": [
      "5/5 [==============================] - 2s 196ms/step - factorized_top_k/top_1_categorical_accuracy: 8.5000e-04 - factorized_top_k/top_5_categorical_accuracy: 0.0095 - factorized_top_k/top_10_categorical_accuracy: 0.0225 - factorized_top_k/top_50_categorical_accuracy: 0.1248 - factorized_top_k/top_100_categorical_accuracy: 0.2327 - loss: 31079.0618 - regularization_loss: 0.0000e+00 - total_loss: 31079.0618\n"
     ]
    },
    {
     "data": {
      "text/plain": [
       "{'factorized_top_k/top_1_categorical_accuracy': 0.0008500000112690032,\n",
       " 'factorized_top_k/top_5_categorical_accuracy': 0.009499999694526196,\n",
       " 'factorized_top_k/top_10_categorical_accuracy': 0.02250000089406967,\n",
       " 'factorized_top_k/top_50_categorical_accuracy': 0.12475000321865082,\n",
       " 'factorized_top_k/top_100_categorical_accuracy': 0.23274999856948853,\n",
       " 'loss': 28244.7734375,\n",
       " 'regularization_loss': 0,\n",
       " 'total_loss': 28244.7734375}"
      ]
     },
     "execution_count": 13,
     "metadata": {},
     "output_type": "execute_result"
    }
   ],
   "source": [
    "\n",
    "model.evaluate(cached_test, return_dict=True)"
   ]
  },
  {
   "attachments": {},
   "cell_type": "markdown",
   "id": "a9641e62",
   "metadata": {},
   "source": [
    "### Make predictions"
   ]
  },
  {
   "cell_type": "code",
   "execution_count": 14,
   "id": "02fdc159",
   "metadata": {
    "title": "make predictions"
   },
   "outputs": [
    {
     "name": "stdout",
     "output_type": "stream",
     "text": [
      "Recommendations for user 56: [b\"Pete's Dragon (1977)\" b\"Kid in King Arthur's Court, A (1995)\"\n",
      " b'Santa Clause, The (1994)']\n"
     ]
    }
   ],
   "source": [
    "\n",
    "index = tfrs.layers.factorized_top_k.BruteForce(model.user_model)\n",
    "index.index_from_dataset(\n",
    "  tf.data.Dataset.zip((movies.batch(100), movies.batch(100).map(model.movie_model)))\n",
    ")\n",
    "\n",
    "_, title = index(tf.constant([\"56\"]))\n",
    "print(f\"Recommendations for user 56: {title[0, :3]}\")"
   ]
  }
 ],
 "metadata": {
  "jupytext": {
   "cell_metadata_filter": "title,-all",
   "main_language": "python",
   "notebook_metadata_filter": "-all"
  },
  "kernelspec": {
   "display_name": "tf",
   "language": "python",
   "name": "python3"
  },
  "language_info": {
   "codemirror_mode": {
    "name": "ipython",
    "version": 3
   },
   "file_extension": ".py",
   "mimetype": "text/x-python",
   "name": "python",
   "nbconvert_exporter": "python",
   "pygments_lexer": "ipython3",
   "version": "3.9.12"
  },
  "vscode": {
   "interpreter": {
    "hash": "9ca4cbf70f67532eb629ec19fa3c44f01d5eea2b38011b070f8a2d49af94a431"
   }
  }
 },
 "nbformat": 4,
 "nbformat_minor": 5
}
