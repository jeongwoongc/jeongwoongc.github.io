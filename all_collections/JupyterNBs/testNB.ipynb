{
 "cells": [
  {
   "attachments": {},
   "cell_type": "markdown",
   "metadata": {},
   "source": [
    "Import libraries for use.\n",
    "\n",
    "blah blah"
   ]
  },
  {
   "cell_type": "code",
   "execution_count": 5,
   "metadata": {},
   "outputs": [],
   "source": [
    "import tensorflow as tf\n",
    "import numpy as np\n",
    "import os\n",
    "import math\n",
    "import keras\n",
    "import matplotlib.pyplot as plt\n"
   ]
  },
  {
   "attachments": {},
   "cell_type": "markdown",
   "metadata": {},
   "source": [
    "something somethings\n",
    "sdsdsd\n",
    "sdsds\n",
    "sds\n"
   ]
  },
  {
   "cell_type": "code",
   "execution_count": 6,
   "metadata": {},
   "outputs": [
    {
     "data": {
      "image/png": "[encoded data removed]",
      "text/plain": [
       "<Figure size 432x288 with 1 Axes>"
      ]
     },
     "metadata": {
      "needs_background": "light"
     },
     "output_type": "display_data"
    }
   ],
   "source": [
    "t,k = np.linspace(0,2*np.pi,1000),5\n",
    "\n",
    "\n",
    "x = np.cos(k*t)*np.cos(t)\n",
    "y = np.cos(k*t)*np.sin(t)\n",
    "\n",
    "\n",
    "plt.plot(x,y,'r')\n",
    "plt.axis('off')\n",
    "plt.axis('square')\n",
    "plt.show()"
   ]
  },
  {
   "cell_type": "code",
   "execution_count": 2,
   "metadata": {},
   "outputs": [
    {
     "name": "stdout",
     "output_type": "stream",
     "text": [
      "[jupytext] Reading model_training.py in format py\n",
      "[jupytext] Writing model_training.ipynb\n"
     ]
    }
   ],
   "source": [
    "!jupytext --to notebook model_training.py"
   ]
  },
  {
   "cell_type": "code",
   "execution_count": 3,
   "metadata": {},
   "outputs": [
    {
     "name": "stdout",
     "output_type": "stream",
     "text": [
      "[jupytext] Reading Recommendation.py in format py\n",
      "[jupytext] Writing Recommendation.ipynb\n"
     ]
    }
   ],
   "source": [
    "!jupytext --to notebook Recommendation.py"
   ]
  },
  {
   "cell_type": "code",
   "execution_count": null,
   "metadata": {},
   "outputs": [],
   "source": []
  }
 ],
 "metadata": {
  "kernelspec": {
   "display_name": "tf",
   "language": "python",
   "name": "python3"
  },
  "language_info": {
   "codemirror_mode": {
    "name": "ipython",
    "version": 3
   },
   "file_extension": ".py",
   "mimetype": "text/x-python",
   "name": "python",
   "nbconvert_exporter": "python",
   "pygments_lexer": "ipython3",
   "version": "3.9.16"
  },
  "orig_nbformat": 4,
  "vscode": {
   "interpreter": {
    "hash": "9ca4cbf70f67532eb629ec19fa3c44f01d5eea2b38011b070f8a2d49af94a431"
   }
  }
 },
 "nbformat": 4,
 "nbformat_minor": 2
}
